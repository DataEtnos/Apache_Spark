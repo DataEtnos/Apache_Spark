{
  "nbformat": 4,
  "nbformat_minor": 0,
  "metadata": {
    "colab": {
      "provenance": [],
      "authorship_tag": "ABX9TyMFjPj+Jgsa8erEr2a3B/2L",
      "include_colab_link": true
    },
    "kernelspec": {
      "name": "python3",
      "display_name": "Python 3"
    },
    "language_info": {
      "name": "python"
    }
  },
  "cells": [
    {
      "cell_type": "markdown",
      "metadata": {
        "id": "view-in-github",
        "colab_type": "text"
      },
      "source": [
        "<a href=\"https://colab.research.google.com/github/DataEtnos/Apache_Spark/blob/main/SPARKML.ipynb\" target=\"_parent\"><img src=\"https://colab.research.google.com/assets/colab-badge.svg\" alt=\"Open In Colab\"/></a>"
      ]
    },
    {
      "cell_type": "code",
      "source": [
        "# Instalar a última versão do PySpark\n",
        "!pip install pyspark #==3.3.1\n",
        "\n",
        "# Instalar o NGROK\n",
        "!wget -qnc https://bin.equinox.io/c/4VmDzA7iaHb/ngrok-stable-linux-amd64.zip\n",
        "!unzip -n -q ngrok-stable-linux-amd64.zip\n",
        "\n",
        "\n",
        "# Iniciar a sessão spark\n",
        "from pyspark.sql import SparkSession\n",
        "\n",
        "spark = (\n",
        "    SparkSession.builder\n",
        "      .config('spark.ui.port', '4050')\n",
        "      .appName(\"SparkSQL\")\n",
        "      .getOrCreate()\n",
        ")\n",
        "\n",
        "# Autenticar a sessão do SparkUI com NGROK\n",
        "!./ngrok authtoken 2pp0qW25AGqGYK6xftvt4Q4XXLv_JsvPyKtvYupn7z65UHQ5\n",
        "get_ipython().system_raw('./ngrok http 4050 &')\n",
        "!sleep 10\n",
        "!curl -s http://localhost:4040/api/tunnels | grep -Po 'public_url\":\"(?=https)\\K[^\"]*'"
      ],
      "metadata": {
        "colab": {
          "base_uri": "https://localhost:8080/"
        },
        "id": "hUqPUWaayg8y",
        "outputId": "2cfe6219-2af0-4f21-db42-bf8e115e630e"
      },
      "execution_count": 5,
      "outputs": [
        {
          "output_type": "stream",
          "name": "stdout",
          "text": [
            "Requirement already satisfied: pyspark in /usr/local/lib/python3.10/dist-packages (3.5.3)\n",
            "Requirement already satisfied: py4j==0.10.9.7 in /usr/local/lib/python3.10/dist-packages (from pyspark) (0.10.9.7)\n",
            "Authtoken saved to configuration file: /root/.ngrok2/ngrok.yml\n"
          ]
        }
      ]
    },
    {
      "cell_type": "markdown",
      "source": [
        "# **MODELAGEM DE COLUNAS**"
      ],
      "metadata": {
        "id": "Qp6b3ZzM0epC"
      }
    },
    {
      "cell_type": "code",
      "source": [
        "from pyspark.sql.types import *\n",
        "\n",
        "schema_remetente_destinatario = StructType([\n",
        "    StructField('nome', StringType()),\n",
        "    StructField('banco', StringType()),\n",
        "    StructField('tipo', StringType())\n",
        "])\n",
        "\n",
        "schema_base_pix = StructType([\n",
        "    StructField('id_transacao', IntegerType()),\n",
        "    StructField('valor', DoubleType()),\n",
        "    StructField('remetente', schema_remetente_destinatario),\n",
        "    StructField('destinatario', schema_remetente_destinatario),\n",
        "    StructField('chave_pix', StringType()),\n",
        "    StructField('categoria', StringType()),\n",
        "    StructField('transaction_date', StringType()),\n",
        "    StructField('fraude', IntegerType())\n",
        "])\n",
        "\n",
        "caminho_json = '/content/case_final.json'\n",
        "df = spark.read.json(\n",
        "    caminho_json,\n",
        "    schema=schema_base_pix,\n",
        "    timestampFormat=\"yyyy-MM-dd HH:mm:ss\")"
      ],
      "metadata": {
        "id": "DXpVrLEIykJg"
      },
      "execution_count": 7,
      "outputs": []
    },
    {
      "cell_type": "code",
      "source": [
        "df.show()\n",
        "\n"
      ],
      "metadata": {
        "colab": {
          "base_uri": "https://localhost:8080/"
        },
        "id": "kydPQCqGxhR0",
        "outputId": "abc3c02b-4a77-4459-8364-7e2ba45c12dd"
      },
      "execution_count": 8,
      "outputs": [
        {
          "output_type": "stream",
          "name": "stdout",
          "text": [
            "+------------+------------------+--------------------+--------------------+---------+-------------+-------------------+------+\n",
            "|id_transacao|             valor|           remetente|        destinatario|chave_pix|    categoria|   transaction_date|fraude|\n",
            "+------------+------------------+--------------------+--------------------+---------+-------------+-------------------+------+\n",
            "|        1000|            588.08|{Jonathan Gonsalv...|{Calebe Melo, Cai...|aleatoria|       outros|2021-07-16 05:00:55|     0|\n",
            "|        1001|           80682.5|{Jonathan Gonsalv...|{Davi Lucas Perei...|  celular|transferencia|2022-04-20 12:34:01|     1|\n",
            "|        1002|             549.9|{Jonathan Gonsalv...|{Sabrina Castro, ...|      cpf|        lazer|2022-07-10 16:51:34|     0|\n",
            "|        1003|             90.83|{Jonathan Gonsalv...|{Francisco da Con...|aleatoria|   transporte|2022-10-20 10:57:36|     0|\n",
            "|        1004|13272.619999999999|{Jonathan Gonsalv...|{Isabelly Ferreir...|    email|transferencia|2021-04-06 20:26:51|     0|\n",
            "|        1005|           9347.58|{Jonathan Gonsalv...|{Srta. Maria da C...|aleatoria|        saude|2022-07-24 15:22:27|     0|\n",
            "|        1006|           7836.76|{Jonathan Gonsalv...|{Catarina Duarte,...|      cpf|    presentes|2022-10-05 19:20:24|     0|\n",
            "|        1007|           3883.62|{Jonathan Gonsalv...|{Vitor Correia, X...|      cpf|    vestuario|2021-04-24 17:36:34|     0|\n",
            "|        1008|               4.0|{Jonathan Gonsalv...|{Theo Novaes, C6,...|aleatoria|        saude|2021-11-16 21:46:47|     0|\n",
            "|        1009|              24.3|{Jonathan Gonsalv...|{Isabel Caldeira,...|      cpf|transferencia|2021-07-26 02:08:49|     0|\n",
            "|        1010|           87555.3|{Jonathan Gonsalv...|{Sr. Henrique Car...|aleatoria|transferencia|2022-03-14 15:34:45|     1|\n",
            "|        1011|          21345.91|{Jonathan Gonsalv...|{Felipe Cavalcant...|      cpf|transferencia|2021-10-31 04:31:51|     1|\n",
            "|        1012|          73605.85|{Jonathan Gonsalv...|{Dr. Davi da Luz,...|  celular|transferencia|2021-04-30 19:19:56|     1|\n",
            "|        1013|             93.53|{Jonathan Gonsalv...|{Stephany Cardoso...|      cpf|  alimentacao|2023-01-13 13:39:57|     0|\n",
            "|        1014|            564.11|{Jonathan Gonsalv...|{Sra. Julia Arauj...|aleatoria|    vestuario|2022-05-27 23:06:08|     0|\n",
            "|        1015|              3.59|{Jonathan Gonsalv...|{Carolina Farias,...|    email|        saude|2021-10-06 21:19:58|     0|\n",
            "|        1016|          19164.89|{Jonathan Gonsalv...|{Isabelly da Cost...|    email|  alimentacao|2022-03-06 17:59:43|     0|\n",
            "|        1017|             68.45|{Jonathan Gonsalv...|{Joao Miguel Silv...|aleatoria|    vestuario|2022-04-01 18:17:40|     0|\n",
            "|        1018|            941.25|{Jonathan Gonsalv...|{Matheus Moura, C...|  celular|    vestuario|2022-05-23 00:28:13|     0|\n",
            "|        1019|27009.910000000003|{Jonathan Gonsalv...|{Gabrielly Goncal...|    email|transferencia|2021-08-04 23:22:37|     1|\n",
            "+------------+------------------+--------------------+--------------------+---------+-------------+-------------------+------+\n",
            "only showing top 20 rows\n",
            "\n"
          ]
        }
      ]
    },
    {
      "cell_type": "code",
      "source": [
        "df.printSchema()"
      ],
      "metadata": {
        "colab": {
          "base_uri": "https://localhost:8080/"
        },
        "id": "-svW6vb8y12B",
        "outputId": "4402f441-26c3-4dba-ab4b-eb6f8b8c7cd4"
      },
      "execution_count": 9,
      "outputs": [
        {
          "output_type": "stream",
          "name": "stdout",
          "text": [
            "root\n",
            " |-- id_transacao: integer (nullable = true)\n",
            " |-- valor: double (nullable = true)\n",
            " |-- remetente: struct (nullable = true)\n",
            " |    |-- nome: string (nullable = true)\n",
            " |    |-- banco: string (nullable = true)\n",
            " |    |-- tipo: string (nullable = true)\n",
            " |-- destinatario: struct (nullable = true)\n",
            " |    |-- nome: string (nullable = true)\n",
            " |    |-- banco: string (nullable = true)\n",
            " |    |-- tipo: string (nullable = true)\n",
            " |-- chave_pix: string (nullable = true)\n",
            " |-- categoria: string (nullable = true)\n",
            " |-- transaction_date: string (nullable = true)\n",
            " |-- fraude: integer (nullable = true)\n",
            "\n"
          ]
        }
      ]
    },
    {
      "cell_type": "code",
      "source": [
        "from pyspark.sql.functions import *\n",
        "\n",
        "df_flatten = df.withColumns({\n",
        "    'destinatario_nome': col('destinatario').getField('nome'), #retirando de bibliotec a para lista\n",
        "    'destinatario_banco': col('destinatario').getField('banco'),\n",
        "    'destinatario_tipo': col('destinatario').getField('tipo'),\n",
        "}).drop('remetente', 'destinatario') # dropando remetente"
      ],
      "metadata": {
        "id": "ojl4SPNvy5oH"
      },
      "execution_count": 10,
      "outputs": []
    },
    {
      "cell_type": "code",
      "source": [
        "df_flatten.show()"
      ],
      "metadata": {
        "colab": {
          "base_uri": "https://localhost:8080/"
        },
        "id": "USSX7MEDzzb0",
        "outputId": "1ba678ba-74b9-4c95-978a-2aba5606ba3f"
      },
      "execution_count": 14,
      "outputs": [
        {
          "output_type": "stream",
          "name": "stdout",
          "text": [
            "+------------+------------------+---------+-------------+-------------------+------+--------------------+------------------+-----------------+\n",
            "|id_transacao|             valor|chave_pix|    categoria|   transaction_date|fraude|   destinatario_nome|destinatario_banco|destinatario_tipo|\n",
            "+------------+------------------+---------+-------------+-------------------+------+--------------------+------------------+-----------------+\n",
            "|        1000|            588.08|aleatoria|       outros|2021-07-16 05:00:55|     0|         Calebe Melo|             Caixa|               PF|\n",
            "|        1001|           80682.5|  celular|transferencia|2022-04-20 12:34:01|     1|  Davi Lucas Pereira|             Caixa|               PJ|\n",
            "|        1002|             549.9|      cpf|        lazer|2022-07-10 16:51:34|     0|      Sabrina Castro|            Nubank|               PF|\n",
            "|        1003|             90.83|aleatoria|   transporte|2022-10-20 10:57:36|     0|Francisco da Conc...|            Nubank|               PJ|\n",
            "|        1004|13272.619999999999|    email|transferencia|2021-04-06 20:26:51|     0|   Isabelly Ferreira|               BTG|               PJ|\n",
            "|        1005|           9347.58|aleatoria|        saude|2022-07-24 15:22:27|     0|Srta. Maria da Cunha|              Itau|               PJ|\n",
            "|        1006|           7836.76|      cpf|    presentes|2022-10-05 19:20:24|     0|     Catarina Duarte|                C6|               PF|\n",
            "|        1007|           3883.62|      cpf|    vestuario|2021-04-24 17:36:34|     0|       Vitor Correia|                XP|               PJ|\n",
            "|        1008|               4.0|aleatoria|        saude|2021-11-16 21:46:47|     0|         Theo Novaes|                C6|               PJ|\n",
            "|        1009|              24.3|      cpf|transferencia|2021-07-26 02:08:49|     0|     Isabel Caldeira|                XP|               PJ|\n",
            "|        1010|           87555.3|aleatoria|transferencia|2022-03-14 15:34:45|     1|Sr. Henrique Cardoso|            Nubank|               PF|\n",
            "|        1011|          21345.91|      cpf|transferencia|2021-10-31 04:31:51|     1|   Felipe Cavalcanti|            Nubank|               PJ|\n",
            "|        1012|          73605.85|  celular|transferencia|2021-04-30 19:19:56|     1|     Dr. Davi da Luz|          Bradesco|               PJ|\n",
            "|        1013|             93.53|      cpf|  alimentacao|2023-01-13 13:39:57|     0|    Stephany Cardoso|                C6|               PJ|\n",
            "|        1014|            564.11|aleatoria|    vestuario|2022-05-27 23:06:08|     0|   Sra. Julia Araujo|              Itau|               PJ|\n",
            "|        1015|              3.59|    email|        saude|2021-10-06 21:19:58|     0|     Carolina Farias|            Nubank|               PJ|\n",
            "|        1016|          19164.89|    email|  alimentacao|2022-03-06 17:59:43|     0|   Isabelly da Costa|            Nubank|               PJ|\n",
            "|        1017|             68.45|aleatoria|    vestuario|2022-04-01 18:17:40|     0|Joao Miguel Silveira|                C6|               PJ|\n",
            "|        1018|            941.25|  celular|    vestuario|2022-05-23 00:28:13|     0|       Matheus Moura|                C6|               PF|\n",
            "|        1019|27009.910000000003|    email|transferencia|2021-08-04 23:22:37|     1| Gabrielly Goncalves|              Itau|               PJ|\n",
            "+------------+------------------+---------+-------------+-------------------+------+--------------------+------------------+-----------------+\n",
            "only showing top 20 rows\n",
            "\n"
          ]
        }
      ]
    },
    {
      "cell_type": "code",
      "source": [
        "df_flatten.printSchema()"
      ],
      "metadata": {
        "colab": {
          "base_uri": "https://localhost:8080/"
        },
        "id": "Cd9um19Ay7x-",
        "outputId": "a2d24fea-ddd9-4f98-85e5-ad2f40bd4a7f"
      },
      "execution_count": 11,
      "outputs": [
        {
          "output_type": "stream",
          "name": "stdout",
          "text": [
            "root\n",
            " |-- id_transacao: integer (nullable = true)\n",
            " |-- valor: double (nullable = true)\n",
            " |-- chave_pix: string (nullable = true)\n",
            " |-- categoria: string (nullable = true)\n",
            " |-- transaction_date: string (nullable = true)\n",
            " |-- fraude: integer (nullable = true)\n",
            " |-- destinatario_nome: string (nullable = true)\n",
            " |-- destinatario_banco: string (nullable = true)\n",
            " |-- destinatario_tipo: string (nullable = true)\n",
            "\n"
          ]
        }
      ]
    },
    {
      "cell_type": "markdown",
      "source": [
        "# **TRANSFORMAÇÃO DE  FEATURES**"
      ],
      "metadata": {
        "id": "gHZGlVpk0ltq"
      }
    },
    {
      "cell_type": "code",
      "source": [
        "from pyspark.ml.feature import StringIndexer\n",
        "# Transformando colunas do tipo texto para numero\n",
        "indexer = StringIndexer(\n",
        "    inputCols=[\n",
        "        'destinatario_nome',\n",
        "        'destinatario_banco',\n",
        "        'destinatario_tipo',\n",
        "        'categoria',\n",
        "        'chave_pix'\n",
        "    ],\n",
        "    outputCols=[\n",
        "        'destinatario_nome_index',\n",
        "        'destinatario_banco_index',\n",
        "        'destinatario_tipo_index',\n",
        "        'categoria_index',\n",
        "        'chave_pix_index'\n",
        "    ]\n",
        ")\n",
        "\n",
        "df_index = indexer.fit(df_flatten).transform(df_flatten)"
      ],
      "metadata": {
        "id": "l9vvHcX1y9qX"
      },
      "execution_count": 15,
      "outputs": []
    },
    {
      "cell_type": "code",
      "source": [
        "df_index.printSchema()"
      ],
      "metadata": {
        "colab": {
          "base_uri": "https://localhost:8080/"
        },
        "id": "LIYGGzcIzAL_",
        "outputId": "f3a6f4e8-30f3-4994-9979-df49d38646dd"
      },
      "execution_count": 17,
      "outputs": [
        {
          "output_type": "stream",
          "name": "stdout",
          "text": [
            "root\n",
            " |-- id_transacao: integer (nullable = true)\n",
            " |-- valor: double (nullable = true)\n",
            " |-- chave_pix: string (nullable = true)\n",
            " |-- categoria: string (nullable = true)\n",
            " |-- transaction_date: string (nullable = true)\n",
            " |-- fraude: integer (nullable = true)\n",
            " |-- destinatario_nome: string (nullable = true)\n",
            " |-- destinatario_banco: string (nullable = true)\n",
            " |-- destinatario_tipo: string (nullable = true)\n",
            " |-- destinatario_nome_index: double (nullable = false)\n",
            " |-- destinatario_banco_index: double (nullable = false)\n",
            " |-- destinatario_tipo_index: double (nullable = false)\n",
            " |-- categoria_index: double (nullable = false)\n",
            " |-- chave_pix_index: double (nullable = false)\n",
            "\n"
          ]
        }
      ]
    },
    {
      "cell_type": "code",
      "source": [
        "df_index.show()"
      ],
      "metadata": {
        "colab": {
          "base_uri": "https://localhost:8080/"
        },
        "id": "76jKhE2szB4f",
        "outputId": "80c40d74-db9e-441c-da55-f47225b51486"
      },
      "execution_count": 16,
      "outputs": [
        {
          "output_type": "stream",
          "name": "stdout",
          "text": [
            "+------------+------------------+---------+-------------+-------------------+------+--------------------+------------------+-----------------+-----------------------+------------------------+-----------------------+---------------+---------------+\n",
            "|id_transacao|             valor|chave_pix|    categoria|   transaction_date|fraude|   destinatario_nome|destinatario_banco|destinatario_tipo|destinatario_nome_index|destinatario_banco_index|destinatario_tipo_index|categoria_index|chave_pix_index|\n",
            "+------------+------------------+---------+-------------+-------------------+------+--------------------+------------------+-----------------+-----------------------+------------------------+-----------------------+---------------+---------------+\n",
            "|        1000|            588.08|aleatoria|       outros|2021-07-16 05:00:55|     0|         Calebe Melo|             Caixa|               PF|                12045.0|                     4.0|                    1.0|            6.0|            3.0|\n",
            "|        1001|           80682.5|  celular|transferencia|2022-04-20 12:34:01|     1|  Davi Lucas Pereira|             Caixa|               PJ|                  259.0|                     4.0|                    0.0|            0.0|            2.0|\n",
            "|        1002|             549.9|      cpf|        lazer|2022-07-10 16:51:34|     0|      Sabrina Castro|            Nubank|               PF|                  132.0|                     2.0|                    1.0|            4.0|            1.0|\n",
            "|        1003|             90.83|aleatoria|   transporte|2022-10-20 10:57:36|     0|Francisco da Conc...|            Nubank|               PJ|                10475.0|                     2.0|                    0.0|            8.0|            3.0|\n",
            "|        1004|13272.619999999999|    email|transferencia|2021-04-06 20:26:51|     0|   Isabelly Ferreira|               BTG|               PJ|                 4159.0|                     1.0|                    0.0|            0.0|            0.0|\n",
            "|        1005|           9347.58|aleatoria|        saude|2022-07-24 15:22:27|     0|Srta. Maria da Cunha|              Itau|               PJ|                26853.0|                     3.0|                    0.0|            3.0|            3.0|\n",
            "|        1006|           7836.76|      cpf|    presentes|2022-10-05 19:20:24|     0|     Catarina Duarte|                C6|               PF|                 5578.0|                     5.0|                    1.0|            7.0|            1.0|\n",
            "|        1007|           3883.62|      cpf|    vestuario|2021-04-24 17:36:34|     0|       Vitor Correia|                XP|               PJ|                13528.0|                     0.0|                    0.0|            2.0|            1.0|\n",
            "|        1008|               4.0|aleatoria|        saude|2021-11-16 21:46:47|     0|         Theo Novaes|                C6|               PJ|                 1141.0|                     5.0|                    0.0|            3.0|            3.0|\n",
            "|        1009|              24.3|      cpf|transferencia|2021-07-26 02:08:49|     0|     Isabel Caldeira|                XP|               PJ|                 8369.0|                     0.0|                    0.0|            0.0|            1.0|\n",
            "|        1010|           87555.3|aleatoria|transferencia|2022-03-14 15:34:45|     1|Sr. Henrique Cardoso|            Nubank|               PF|                22115.0|                     2.0|                    1.0|            0.0|            3.0|\n",
            "|        1011|          21345.91|      cpf|transferencia|2021-10-31 04:31:51|     1|   Felipe Cavalcanti|            Nubank|               PJ|                 5897.0|                     2.0|                    0.0|            0.0|            1.0|\n",
            "|        1012|          73605.85|  celular|transferencia|2021-04-30 19:19:56|     1|     Dr. Davi da Luz|          Bradesco|               PJ|                12212.0|                     6.0|                    0.0|            0.0|            2.0|\n",
            "|        1013|             93.53|      cpf|  alimentacao|2023-01-13 13:39:57|     0|    Stephany Cardoso|                C6|               PJ|                   10.0|                     5.0|                    0.0|            1.0|            1.0|\n",
            "|        1014|            564.11|aleatoria|    vestuario|2022-05-27 23:06:08|     0|   Sra. Julia Araujo|              Itau|               PJ|                24413.0|                     3.0|                    0.0|            2.0|            3.0|\n",
            "|        1015|              3.59|    email|        saude|2021-10-06 21:19:58|     0|     Carolina Farias|            Nubank|               PJ|                10121.0|                     2.0|                    0.0|            3.0|            0.0|\n",
            "|        1016|          19164.89|    email|  alimentacao|2022-03-06 17:59:43|     0|   Isabelly da Costa|            Nubank|               PJ|                 6122.0|                     2.0|                    0.0|            1.0|            0.0|\n",
            "|        1017|             68.45|aleatoria|    vestuario|2022-04-01 18:17:40|     0|Joao Miguel Silveira|                C6|               PJ|                 6214.0|                     5.0|                    0.0|            2.0|            3.0|\n",
            "|        1018|            941.25|  celular|    vestuario|2022-05-23 00:28:13|     0|       Matheus Moura|                C6|               PF|                 1829.0|                     5.0|                    1.0|            2.0|            2.0|\n",
            "|        1019|27009.910000000003|    email|transferencia|2021-08-04 23:22:37|     1| Gabrielly Goncalves|              Itau|               PJ|                 5973.0|                     3.0|                    0.0|            0.0|            0.0|\n",
            "+------------+------------------+---------+-------------+-------------------+------+--------------------+------------------+-----------------+-----------------------+------------------------+-----------------------+---------------+---------------+\n",
            "only showing top 20 rows\n",
            "\n"
          ]
        }
      ]
    },
    {
      "cell_type": "code",
      "source": [
        "#separando os dados em fraude e não fraude  para verificar o modelo  e não enviesar o modelo\n",
        "is_fraud = df_index.filter(\"fraude == 1\") # filter(col('fraude') == 1)\n",
        "no_fraud = df_index.filter(\"fraude == 0\")"
      ],
      "metadata": {
        "id": "y7UHR1dtzEAu"
      },
      "execution_count": 19,
      "outputs": []
    },
    {
      "cell_type": "code",
      "source": [
        "#O código seleciona uma amostra de 1% dos dados sem fraude\n",
        "no_fraud = no_fraud.sample(False, 0.01, seed=123)"
      ],
      "metadata": {
        "id": "jeIOq5fYzGzG"
      },
      "execution_count": 21,
      "outputs": []
    },
    {
      "cell_type": "code",
      "source": [
        "#O código combina os dados de fraude (is_fraud) e não fraude (no_fraud) em um único\n",
        "df_concat = no_fraud.union(is_fraud)\n",
        "df = df_concat.sort(\"transaction_date\")\n",
        "df.count()"
      ],
      "metadata": {
        "colab": {
          "base_uri": "https://localhost:8080/"
        },
        "id": "2gjpuVLhzIXm",
        "outputId": "e8232fad-f521-4553-8820-f32a95ff6d99"
      },
      "execution_count": 22,
      "outputs": [
        {
          "output_type": "execute_result",
          "data": {
            "text/plain": [
              "15371"
            ]
          },
          "metadata": {},
          "execution_count": 22
        }
      ]
    },
    {
      "cell_type": "code",
      "source": [
        "#separa em treino e teste de forma aleatoria  sendo 70% treino e 30% para teste\n",
        "train, test = df.randomSplit([0.7, 0.3], seed = 123)\n",
        "print(\"train =\", train.count(), \" test =\", test.count())"
      ],
      "metadata": {
        "colab": {
          "base_uri": "https://localhost:8080/"
        },
        "id": "-8B815uKzJ79",
        "outputId": "71b6cd16-5f5d-4e24-e728-ead83fd55529"
      },
      "execution_count": 23,
      "outputs": [
        {
          "output_type": "stream",
          "name": "stdout",
          "text": [
            "train = 10701  test = 4670\n"
          ]
        }
      ]
    },
    {
      "cell_type": "code",
      "source": [
        "is_fraud = udf(lambda fraud: 1.0 if fraud > 0 else 0.0, DoubleType())\n",
        "train = train.withColumn(\"is_fraud\", is_fraud(train.fraude))"
      ],
      "metadata": {
        "id": "VTcLJDXvzL-G"
      },
      "execution_count": 24,
      "outputs": []
    },
    {
      "cell_type": "code",
      "source": [
        "train.printSchema()"
      ],
      "metadata": {
        "colab": {
          "base_uri": "https://localhost:8080/"
        },
        "id": "3NW-i8SMzNXe",
        "outputId": "2ca67d6a-4334-476c-b16f-4c41fa0ce17f"
      },
      "execution_count": 25,
      "outputs": [
        {
          "output_type": "stream",
          "name": "stdout",
          "text": [
            "root\n",
            " |-- id_transacao: integer (nullable = true)\n",
            " |-- valor: double (nullable = true)\n",
            " |-- chave_pix: string (nullable = true)\n",
            " |-- categoria: string (nullable = true)\n",
            " |-- transaction_date: string (nullable = true)\n",
            " |-- fraude: integer (nullable = true)\n",
            " |-- destinatario_nome: string (nullable = true)\n",
            " |-- destinatario_banco: string (nullable = true)\n",
            " |-- destinatario_tipo: string (nullable = true)\n",
            " |-- destinatario_nome_index: double (nullable = false)\n",
            " |-- destinatario_banco_index: double (nullable = false)\n",
            " |-- destinatario_tipo_index: double (nullable = false)\n",
            " |-- categoria_index: double (nullable = false)\n",
            " |-- chave_pix_index: double (nullable = false)\n",
            " |-- is_fraud: double (nullable = true)\n",
            "\n"
          ]
        }
      ]
    },
    {
      "cell_type": "code",
      "source": [
        "train.columns"
      ],
      "metadata": {
        "colab": {
          "base_uri": "https://localhost:8080/"
        },
        "id": "afdbaoRhzO61",
        "outputId": "3b140e46-cf51-4438-855f-ae49ae7d175b"
      },
      "execution_count": 26,
      "outputs": [
        {
          "output_type": "execute_result",
          "data": {
            "text/plain": [
              "['id_transacao',\n",
              " 'valor',\n",
              " 'chave_pix',\n",
              " 'categoria',\n",
              " 'transaction_date',\n",
              " 'fraude',\n",
              " 'destinatario_nome',\n",
              " 'destinatario_banco',\n",
              " 'destinatario_tipo',\n",
              " 'destinatario_nome_index',\n",
              " 'destinatario_banco_index',\n",
              " 'destinatario_tipo_index',\n",
              " 'categoria_index',\n",
              " 'chave_pix_index',\n",
              " 'is_fraud']"
            ]
          },
          "metadata": {},
          "execution_count": 26
        }
      ]
    },
    {
      "cell_type": "code",
      "source": [
        "from pyspark.ml.classification import LogisticRegression\n",
        "from pyspark.ml.feature import VectorAssembler\n",
        "from pyspark.ml import Pipeline\n",
        "\n",
        "assembler = VectorAssembler(\n",
        "    inputCols = [x for x in train.columns if x not in ['transaction_date', 'fraude', 'is_fraud', 'destinatario_nome', 'destinatario_banco', 'destinatario_tipo', 'chave_pix', 'categoria']],\n",
        "    outputCol=\"features\")"
      ],
      "metadata": {
        "id": "0k9NtwNPzQe2"
      },
      "execution_count": 27,
      "outputs": []
    },
    {
      "cell_type": "code",
      "source": [
        "lr = LogisticRegression().setParams(\n",
        "    maxIter=100000,\n",
        "    labelCol = \"is_fraud\",\n",
        "    predictionCol=\"prediction\"\n",
        ")"
      ],
      "metadata": {
        "id": "OoitQGpTzTMm"
      },
      "execution_count": 28,
      "outputs": []
    },
    {
      "cell_type": "code",
      "source": [
        "model = Pipeline(stages=[assembler, lr]).fit(train)"
      ],
      "metadata": {
        "id": "DWfYXh20zVQt"
      },
      "execution_count": 29,
      "outputs": []
    },
    {
      "cell_type": "code",
      "source": [
        "predicted = model.transform(test)"
      ],
      "metadata": {
        "id": "BLv_VxfHzVB2"
      },
      "execution_count": 30,
      "outputs": []
    },
    {
      "cell_type": "code",
      "source": [
        "predicted.show()"
      ],
      "metadata": {
        "colab": {
          "base_uri": "https://localhost:8080/"
        },
        "id": "VOJRIv7nzU5l",
        "outputId": "0c690be8-9bd2-4afa-a401-ea69c9659095"
      },
      "execution_count": 31,
      "outputs": [
        {
          "output_type": "stream",
          "name": "stdout",
          "text": [
            "+------------+------------------+---------+-------------+-------------------+------+--------------------+------------------+-----------------+-----------------------+------------------------+-----------------------+---------------+---------------+--------------------+--------------------+--------------------+----------+\n",
            "|id_transacao|             valor|chave_pix|    categoria|   transaction_date|fraude|   destinatario_nome|destinatario_banco|destinatario_tipo|destinatario_nome_index|destinatario_banco_index|destinatario_tipo_index|categoria_index|chave_pix_index|            features|       rawPrediction|         probability|prediction|\n",
            "+------------+------------------+---------+-------------+-------------------+------+--------------------+------------------+-----------------+-----------------------+------------------------+-----------------------+---------------+---------------+--------------------+--------------------+--------------------+----------+\n",
            "|        1011|          21345.91|      cpf|transferencia|2021-10-31 04:31:51|     1|   Felipe Cavalcanti|            Nubank|               PJ|                 5897.0|                     2.0|                    0.0|            0.0|            1.0|[1011.0,21345.91,...|[-18.841869198837...|[6.56266408836611...|       1.0|\n",
            "|        1027|          75786.55|  celular|transferencia|2021-10-20 19:39:46|     1|      Otavio Freitas|            Nubank|               PF|                  341.0|                     2.0|                    1.0|            0.0|            2.0|[1027.0,75786.55,...|[-18.954626125923...|[5.86287269910766...|       1.0|\n",
            "|        1038|          86418.48|    email|transferencia|2021-11-23 13:32:51|     1|         Isis Farias|             Caixa|               PJ|                 2628.0|                     4.0|                    0.0|            0.0|            0.0|[1038.0,86418.48,...|[-18.952858653552...|[5.87324432764204...|       1.0|\n",
            "|        1066|          87812.62|  celular|transferencia|2022-05-07 08:23:02|     1|       Joana Barbosa|             Caixa|               PJ|                12610.0|                     4.0|                    0.0|            0.0|            2.0|[1066.0,87812.62,...|[-18.975062592692...|[5.74427231090769...|       1.0|\n",
            "|        1069|          48297.18|  celular|transferencia|2021-04-10 15:10:51|     1|          Nina Jesus|          Bradesco|               PF|                 3088.0|                     6.0|                    1.0|            0.0|            2.0|[1069.0,48297.18,...|[-18.872304519100...|[6.36593622968015...|       1.0|\n",
            "|        1100|          34793.98|    email|transferencia|2021-01-17 11:59:46|     1|Dr. Luiz Gustavo ...|              Itau|               PF|                18369.0|                     3.0|                    1.0|            0.0|            0.0|[1100.0,34793.98,...|[-18.842018422179...|[6.56168485876589...|       1.0|\n",
            "|        1120|          45131.35|aleatoria|transferencia|2022-01-22 01:55:24|     1|       Joaquim Cunha|              Itau|               PF|                 4262.0|                     3.0|                    1.0|            0.0|            3.0|[1120.0,45131.35,...|[-18.895041324203...|[6.22282825337610...|       1.0|\n",
            "|        1137|          54317.83|    email|transferencia|2021-08-28 10:31:35|     1|      Gabriel Farias|              Itau|               PJ|                 5945.0|                     3.0|                    0.0|            0.0|            0.0|[1137.0,54317.83,...|[-18.893017180929...|[6.2354369058072E...|       1.0|\n",
            "|        1141|          36476.66|  celular|transferencia|2021-08-19 05:42:13|     1|       Yasmin Moraes|            Nubank|               PJ|                 3330.0|                     2.0|                    0.0|            0.0|            2.0|[1141.0,36476.66,...|[-18.883328260234...|[6.29614518303323...|       1.0|\n",
            "|        1154|          32825.54|  celular|transferencia|2022-07-25 20:07:56|     1|       Caua da Costa|          Bradesco|               PJ|                 3730.0|                     6.0|                    0.0|            0.0|            2.0|[1154.0,32825.54,...|[-18.850185769563...|[6.50831155529753...|       1.0|\n",
            "|        1165|           68717.9|  celular|transferencia|2021-07-28 04:26:56|     1|   Dr. Kaique Duarte|                C6|               PF|                14147.0|                     5.0|                    1.0|            0.0|            2.0|[1165.0,68717.9,1...|[-18.919577833291...|[6.07199974187471...|       1.0|\n",
            "|        1168|          87997.48|      cpf|transferencia|2022-08-24 02:57:05|     1|       Anthony Sales|            Nubank|               PJ|                11940.0|                     2.0|                    0.0|            0.0|            1.0|[1168.0,87997.48,...|[-18.978155010691...|[5.72653605800733...|       1.0|\n",
            "|        1191|          78193.64|    email|transferencia|2021-12-10 21:24:19|     1|          Bruna Dias|          Bradesco|               PF|                 1298.0|                     6.0|                    1.0|            0.0|            0.0|[1191.0,78193.64,...|[-18.913565666417...|[6.10861557732272...|       1.0|\n",
            "|        1198|          45465.52|aleatoria|transferencia|2022-08-13 21:34:14|     1|    Henrique Martins|               BTG|               PJ|                  876.0|                     1.0|                    0.0|            0.0|            3.0|[1198.0,45465.52,...|[-18.918569190851...|[6.07812730821877...|       1.0|\n",
            "|        1234|          42959.57|  celular|transferencia|2021-04-16 23:50:25|     1|Maria Eduarda Car...|                C6|               PF|                   55.0|                     5.0|                    1.0|            0.0|            2.0|[1234.0,42959.57,...|[-18.868026214072...|[6.39322999037149...|       1.0|\n",
            "|        1256|          48608.25|      cpf|transferencia|2022-05-14 14:30:18|     1|      Lucca Monteiro|            Nubank|               PF|                  994.0|                     2.0|                    1.0|            0.0|            1.0|[1256.0,48608.25,...|[-18.888590668508...|[6.26309932339944...|       1.0|\n",
            "|        1291|31622.989999999998|  celular|transferencia|2021-07-03 05:33:22|     1|       Laura da Mota|             Caixa|               PJ|                 1677.0|                     4.0|                    0.0|            0.0|            2.0|[1291.0,31622.989...|[-18.860708210159...|[6.44018727941012...|       1.0|\n",
            "|        1310|          48893.19|  celular|transferencia|2021-08-06 15:04:56|     1|     Marcela da Rosa|          Bradesco|               PJ|                11105.0|                     6.0|                    0.0|            0.0|            2.0|[1310.0,48893.19,...|[-18.882467603439...|[6.30156633567501...|       1.0|\n",
            "|        1331|          71392.99|      cpf|transferencia|2021-12-24 17:29:48|     1|        Yuri Pereira|              Itau|               PF|                 7357.0|                     3.0|                    1.0|            0.0|            1.0|[1331.0,71392.99,...|[-18.928366095325...|[6.01887121305453...|       1.0|\n",
            "|        1346|          89103.02|      cpf|transferencia|2022-04-14 15:52:35|     1| Srta. Daniela Pires|               BTG|               PJ|                16464.0|                     1.0|                    0.0|            0.0|            1.0|[1346.0,89103.02,...|[-18.986384405385...|[5.67960351092341...|       1.0|\n",
            "+------------+------------------+---------+-------------+-------------------+------+--------------------+------------------+-----------------+-----------------------+------------------------+-----------------------+---------------+---------------+--------------------+--------------------+--------------------+----------+\n",
            "only showing top 20 rows\n",
            "\n"
          ]
        }
      ]
    },
    {
      "cell_type": "code",
      "source": [
        "predicted = predicted.withColumn('is_fraud', is_fraud(predicted.fraude))\n",
        "predicted.crosstab('is_fraud', 'prediction').show()"
      ],
      "metadata": {
        "colab": {
          "base_uri": "https://localhost:8080/"
        },
        "id": "-9sNzsI0ziT9",
        "outputId": "7655a5fa-faab-4845-f6db-953e6296b4fe"
      },
      "execution_count": 32,
      "outputs": [
        {
          "output_type": "stream",
          "name": "stdout",
          "text": [
            "+-------------------+---+----+\n",
            "|is_fraud_prediction|0.0| 1.0|\n",
            "+-------------------+---+----+\n",
            "|                1.0|  0|4669|\n",
            "|                0.0|  1|   0|\n",
            "+-------------------+---+----+\n",
            "\n"
          ]
        }
      ]
    },
    {
      "cell_type": "code",
      "source": [
        "df_teste_cols = [\n",
        "    'id_transacao',\n",
        "    'valor',\n",
        "    'transaction_date',\n",
        "    'destinatario_nome_index',\n",
        "    'destinatario_banco_index',\n",
        "    'destinatario_tipo_index',\n",
        "    'chave_pix_index',\n",
        "    'categoria_index',\n",
        "    'fraude'\n",
        "]\n",
        "\n",
        "df_teste_data = [\n",
        "    (999,103.2, \"2023-01-01 11:56:41\", 328.0, 4.0, 1.0, 3.0, 5.0, 0),\n",
        "    (998, 500000.0, \"2023-01-01 11:56:41\", 328.0, 2.0, 3.0, 2.0, 5.0, 1),\n",
        "    (997, 19999.0, \"2023-01-01 11:56:41\", 328.0, 1.0, 2.0, 1.0, 5.0, 0),\n",
        "]\n",
        "\n",
        "df_teste = spark.createDataFrame(df_teste_data).toDF(*df_teste_cols)"
      ],
      "metadata": {
        "id": "GHOV2lH7zlo8"
      },
      "execution_count": 33,
      "outputs": []
    },
    {
      "cell_type": "code",
      "source": [
        "new_prediction = model.transform(df_teste)"
      ],
      "metadata": {
        "id": "PvZqPO_Qznb0"
      },
      "execution_count": 34,
      "outputs": []
    },
    {
      "cell_type": "code",
      "source": [
        "new_prediction.show()"
      ],
      "metadata": {
        "colab": {
          "base_uri": "https://localhost:8080/"
        },
        "id": "pNrSWFeVzpEk",
        "outputId": "4514523a-35c7-4d0b-d2f4-05661bf40771"
      },
      "execution_count": 35,
      "outputs": [
        {
          "output_type": "stream",
          "name": "stdout",
          "text": [
            "+------------+--------+-------------------+-----------------------+------------------------+-----------------------+---------------+---------------+------+--------------------+--------------------+-----------+----------+\n",
            "|id_transacao|   valor|   transaction_date|destinatario_nome_index|destinatario_banco_index|destinatario_tipo_index|chave_pix_index|categoria_index|fraude|            features|       rawPrediction|probability|prediction|\n",
            "+------------+--------+-------------------+-----------------------+------------------------+-----------------------+---------------+---------------+------+--------------------+--------------------+-----------+----------+\n",
            "|         999|   103.2|2023-01-01 11:56:41|                  328.0|                     4.0|                    1.0|            3.0|            5.0|     0|[999.0,103.2,328....|[78.3947369321129...|  [1.0,0.0]|       0.0|\n",
            "|         998|500000.0|2023-01-01 11:56:41|                  328.0|                     2.0|                    3.0|            2.0|            5.0|     1|[998.0,500000.0,3...|[77.3849576713396...|  [1.0,0.0]|       0.0|\n",
            "|         997| 19999.0|2023-01-01 11:56:41|                  328.0|                     1.0|                    2.0|            1.0|            5.0|     0|[997.0,19999.0,32...|[78.3646919117699...|  [1.0,0.0]|       0.0|\n",
            "+------------+--------+-------------------+-----------------------+------------------------+-----------------------+---------------+---------------+------+--------------------+--------------------+-----------+----------+\n",
            "\n"
          ]
        }
      ]
    }
  ]
}